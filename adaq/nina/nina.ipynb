{
 "cells": [
  {
   "cell_type": "code",
   "execution_count": 1,
   "id": "11696c10-3e64-4b48-8895-d97764d87504",
   "metadata": {},
   "outputs": [],
   "source": [
    "import pyvista"
   ]
  },
  {
   "cell_type": "code",
   "execution_count": null,
   "id": "40da5dda-708a-4aab-ac4c-9d432bfbb64a",
   "metadata": {},
   "outputs": [],
   "source": [
    "pyvista.set_jupyter_backend(\"trame\")"
   ]
  },
  {
   "cell_type": "code",
   "execution_count": 2,
   "id": "fe5f167d-265e-4054-8b2f-aa8f95b95290",
   "metadata": {},
   "outputs": [],
   "source": [
    "from __future__ import annotations\n",
    "\n",
    "from cf_units import Unit\n",
    "import geovista as gv\n",
    "#import geovista.theme\n",
    "from geovista.common import to_cartesian\n",
    "import ipywidgets as widgets\n",
    "import iris\n",
    "import numpy as np\n",
    "import pyvista as pv"
   ]
  },
  {
   "cell_type": "code",
   "execution_count": 3,
   "id": "aa8b056a-bdc0-4fcd-b18d-abfd2c5a5d80",
   "metadata": {},
   "outputs": [],
   "source": [
    "# fname = \"Fields_grid6_C1_T1_202310201800.txt\"\n",
    "# cubes = iris.load(fname, \"CAESIUM-TRACER_AIR_CONCENTRATION\")\n",
    "# cube = cubes[0]\n",
    "\n",
    "fname = \"/data/users/nkristia/Reykjanes_May24/NAMEoutput_UKV_chemistryON_ForChris/Fields_grid1_C1_T197_202406020200.nc\"\n",
    "fname = \"/data/users/itwl/geovista/adaq/nina/so2-air-concentration-timeseries.nc\"\n",
    "\n",
    "cubes = iris.load(fname)"
   ]
  },
  {
   "cell_type": "code",
   "execution_count": 4,
   "id": "7bb8dde7-ee20-4c77-932a-a9e564ab9aad",
   "metadata": {},
   "outputs": [
    {
     "data": {
      "text/html": [
       "\n",
       "<style>\n",
       "    .accordion-139791734508032 {\n",
       "        color: var(--jp-ui-font-color2);\n",
       "        background: var(--jp-layout-color2);\n",
       "        cursor: pointer;\n",
       "        padding: 10px;\n",
       "        border: 1px solid var(--jp-border-color0);\n",
       "        width: 100%;\n",
       "        text-align: left;\n",
       "        font-size: 14px;\n",
       "        font-family: var(--jp-code-font-family);\n",
       "        font-weight: normal;\n",
       "        outline: none;\n",
       "        transition: 0.4s;\n",
       "    }\n",
       "    .active {\n",
       "        background: var(--jp-layout-color1);\n",
       "        font-weight: 900;\n",
       "    }\n",
       "    .accordion-139791734508032.active {\n",
       "        border: 1px solid var(--jp-brand-color1) !important;\n",
       "    }\n",
       "    .accordion-139791734508032:hover {\n",
       "        box-shadow: var(--jp-input-box-shadow);\n",
       "        border: 2px solid var(--jp-brand-color1);\n",
       "    }\n",
       "    .panel-139791734508032 {\n",
       "        padding: 0 18px;\n",
       "        margin-bottom: 5px;\n",
       "        background-color: var(--jp-layout-color1);\n",
       "        display: none;\n",
       "        overflow: hidden;\n",
       "        border: 1px solid var(--jp-brand-color2);\n",
       "    }\n",
       "</style>\n",
       "<script type=\"text/javascript\">\n",
       "    var accordion = document.getElementsByClassName(\"accordion-139791734508032\");\n",
       "    var i;\n",
       "\n",
       "    for (i = 0; i < accordion.length; i++) {\n",
       "        accordion[i].addEventListener(\"click\", function() {\n",
       "            this.classList.toggle(\"active\");\n",
       "\n",
       "            var panel = this.nextElementSibling;\n",
       "            if (panel.style.display === \"block\") {\n",
       "                panel.style.display = \"none\";\n",
       "            } else {\n",
       "                panel.style.display = \"block\";\n",
       "            }\n",
       "        });\n",
       "    }\n",
       "</script>\n",
       "\n",
       "<button class=\"accordion-139791734508032\">0: SULPHUR_DIOXIDE_AIR_CONCENTRATION / (g / m^3) (time: 216; altitude: 40; latitude: 300; longitude: 400)</button>\n",
       "<div class=\"panel-139791734508032\">\n",
       "    <p>\n",
       "<style>\n",
       "  a.iris {\n",
       "      text-decoration: none !important;\n",
       "  }\n",
       "  table.iris {\n",
       "      white-space: pre;\n",
       "      border: 1px solid;\n",
       "      border-color: #9c9c9c;\n",
       "      font-family: monaco, monospace;\n",
       "  }\n",
       "  th.iris {\n",
       "      background: #303f3f;\n",
       "      color: #e0e0e0;\n",
       "      border-left: 1px solid;\n",
       "      border-color: #9c9c9c;\n",
       "      font-size: 1.05em;\n",
       "      min-width: 50px;\n",
       "      max-width: 125px;\n",
       "  }\n",
       "  tr.iris :first-child {\n",
       "      border-right: 1px solid #9c9c9c !important;\n",
       "  }\n",
       "  td.iris-title {\n",
       "      background: #d5dcdf;\n",
       "      border-top: 1px solid #9c9c9c;\n",
       "      font-weight: bold;\n",
       "  }\n",
       "  .iris-word-cell {\n",
       "      text-align: left !important;\n",
       "      white-space: pre;\n",
       "  }\n",
       "  .iris-subheading-cell {\n",
       "      padding-left: 2em !important;\n",
       "  }\n",
       "  .iris-inclusion-cell {\n",
       "      padding-right: 1em !important;\n",
       "  }\n",
       "  .iris-panel-body {\n",
       "      padding-top: 0px;\n",
       "  }\n",
       "  .iris-panel-title {\n",
       "      padding-left: 3em;\n",
       "  }\n",
       "  .iris-panel-title {\n",
       "      margin-top: 7px;\n",
       "  }\n",
       "</style>\n",
       "<table class=\"iris\" id=\"139791702809088\">\n",
       "    <tr class=\"iris\">\n",
       "<th class=\"iris iris-word-cell\">Sulphur Dioxide Air Concentration (g / m^3)</th>\n",
       "<th class=\"iris iris-word-cell\">time</th>\n",
       "<th class=\"iris iris-word-cell\">altitude</th>\n",
       "<th class=\"iris iris-word-cell\">latitude</th>\n",
       "<th class=\"iris iris-word-cell\">longitude</th>\n",
       "</tr>\n",
       "    <tr class=\"iris\">\n",
       "<td class=\"iris-word-cell iris-subheading-cell\">Shape</td>\n",
       "<td class=\"iris iris-inclusion-cell\">216</td>\n",
       "<td class=\"iris iris-inclusion-cell\">40</td>\n",
       "<td class=\"iris iris-inclusion-cell\">300</td>\n",
       "<td class=\"iris iris-inclusion-cell\">400</td>\n",
       "</tr>\n",
       "    <tr class=\"iris\">\n",
       "    <td class=\"iris-title iris-word-cell\">Dimension coordinates</td>\n",
       "    <td class=\"iris-title\"></td>\n",
       "    <td class=\"iris-title\"></td>\n",
       "    <td class=\"iris-title\"></td>\n",
       "    <td class=\"iris-title\"></td>\n",
       "</tr>\n",
       "<tr class=\"iris\">\n",
       "    <td class=\"iris-word-cell iris-subheading-cell\">\ttime</td>\n",
       "    <td class=\"iris-inclusion-cell\">x</td>\n",
       "    <td class=\"iris-inclusion-cell\">-</td>\n",
       "    <td class=\"iris-inclusion-cell\">-</td>\n",
       "    <td class=\"iris-inclusion-cell\">-</td>\n",
       "</tr>\n",
       "<tr class=\"iris\">\n",
       "    <td class=\"iris-word-cell iris-subheading-cell\">\taltitude</td>\n",
       "    <td class=\"iris-inclusion-cell\">-</td>\n",
       "    <td class=\"iris-inclusion-cell\">x</td>\n",
       "    <td class=\"iris-inclusion-cell\">-</td>\n",
       "    <td class=\"iris-inclusion-cell\">-</td>\n",
       "</tr>\n",
       "<tr class=\"iris\">\n",
       "    <td class=\"iris-word-cell iris-subheading-cell\">\tlatitude</td>\n",
       "    <td class=\"iris-inclusion-cell\">-</td>\n",
       "    <td class=\"iris-inclusion-cell\">-</td>\n",
       "    <td class=\"iris-inclusion-cell\">x</td>\n",
       "    <td class=\"iris-inclusion-cell\">-</td>\n",
       "</tr>\n",
       "<tr class=\"iris\">\n",
       "    <td class=\"iris-word-cell iris-subheading-cell\">\tlongitude</td>\n",
       "    <td class=\"iris-inclusion-cell\">-</td>\n",
       "    <td class=\"iris-inclusion-cell\">-</td>\n",
       "    <td class=\"iris-inclusion-cell\">-</td>\n",
       "    <td class=\"iris-inclusion-cell\">x</td>\n",
       "</tr>\n",
       "<tr class=\"iris\">\n",
       "    <td class=\"iris-title iris-word-cell\">Scalar coordinates</td>\n",
       "    <td class=\"iris-title\"></td>\n",
       "    <td class=\"iris-title\"></td>\n",
       "    <td class=\"iris-title\"></td>\n",
       "    <td class=\"iris-title\"></td>\n",
       "</tr>\n",
       "<tr class=\"iris\">\n",
       "    <td class=\"iris-word-cell iris-subheading-cell\">\tforecast_reference_time</td>\n",
       "    <td class=\"iris-word-cell\" colspan=\"4\">2024-05-29 00:00:00</td>\n",
       "</tr>\n",
       "<tr class=\"iris\">\n",
       "    <td class=\"iris-title iris-word-cell\">Cell methods</td>\n",
       "    <td class=\"iris-title\"></td>\n",
       "    <td class=\"iris-title\"></td>\n",
       "    <td class=\"iris-title\"></td>\n",
       "    <td class=\"iris-title\"></td>\n",
       "</tr>\n",
       "<tr class=\"iris\">\n",
       "    <td class=\"iris-word-cell iris-subheading-cell\">\t0</td>\n",
       "    <td class=\"iris-word-cell\" colspan=\"4\">time: mean</td>\n",
       "</tr>\n",
       "<tr class=\"iris\">\n",
       "    <td class=\"iris-word-cell iris-subheading-cell\">\t1</td>\n",
       "    <td class=\"iris-word-cell\" colspan=\"4\">altitude: mean</td>\n",
       "</tr>\n",
       "<tr class=\"iris\">\n",
       "    <td class=\"iris-title iris-word-cell\">Attributes</td>\n",
       "    <td class=\"iris-title\"></td>\n",
       "    <td class=\"iris-title\"></td>\n",
       "    <td class=\"iris-title\"></td>\n",
       "    <td class=\"iris-title\"></td>\n",
       "</tr>\n",
       "<tr class=\"iris\">\n",
       "    <td class=\"iris-word-cell iris-subheading-cell\">\tConventions</td>\n",
       "    <td class=\"iris-word-cell\" colspan=\"4\">&#x27;CF-1.7&#x27;</td>\n",
       "</tr>\n",
       "<tr class=\"iris\">\n",
       "    <td class=\"iris-word-cell iris-subheading-cell\">\tcomment</td>\n",
       "    <td class=\"iris-word-cell\" colspan=\"4\">&#x27;none&#x27;</td>\n",
       "</tr>\n",
       "<tr class=\"iris\">\n",
       "    <td class=\"iris-word-cell iris-subheading-cell\">\tend_of_release</td>\n",
       "    <td class=\"iris-word-cell\" colspan=\"4\">&#x27;30/05/2024 13:00 UTC&#x27;</td>\n",
       "</tr>\n",
       "<tr class=\"iris\">\n",
       "    <td class=\"iris-word-cell iris-subheading-cell\">\tfield_name</td>\n",
       "    <td class=\"iris-word-cell\" colspan=\"4\">&#x27;SO2_conc_masl&#x27;</td>\n",
       "</tr>\n",
       "<tr class=\"iris\">\n",
       "    <td class=\"iris-word-cell iris-subheading-cell\">\thistory</td>\n",
       "    <td class=\"iris-word-cell\" colspan=\"4\">&#x27;NAME 25/07/2024 07:56:58.761 UTC+01:00&#x27;</td>\n",
       "</tr>\n",
       "<tr class=\"iris\">\n",
       "    <td class=\"iris-word-cell iris-subheading-cell\">\thorizontal_av_int_info</td>\n",
       "    <td class=\"iris-word-cell\" colspan=\"4\">&#x27;No horizontal averaging&#x27;</td>\n",
       "</tr>\n",
       "<tr class=\"iris\">\n",
       "    <td class=\"iris-word-cell iris-subheading-cell\">\tinstitution</td>\n",
       "    <td class=\"iris-word-cell\" colspan=\"4\">&#x27;NA&#x27;</td>\n",
       "</tr>\n",
       "<tr class=\"iris\">\n",
       "    <td class=\"iris-word-cell iris-subheading-cell\">\tmet_data</td>\n",
       "    <td class=\"iris-word-cell\" colspan=\"4\">&#x27;NWP Flow.UKV_PT1_flow; NWP Flow.UKV_PT2_flow; NWP Flow.UKV_PT3_flow; NWP ...&#x27;</td>\n",
       "</tr>\n",
       "<tr class=\"iris\">\n",
       "    <td class=\"iris-word-cell iris-subheading-cell\">\tname_netcdf_out_vers</td>\n",
       "    <td class=\"iris-word-cell\" colspan=\"4\">&#x27;0.1&#x27;</td>\n",
       "</tr>\n",
       "<tr class=\"iris\">\n",
       "    <td class=\"iris-word-cell iris-subheading-cell\">\tname_version</td>\n",
       "    <td class=\"iris-word-cell\" colspan=\"4\">&#x27;NAME III (version 8.5)&#x27;</td>\n",
       "</tr>\n",
       "<tr class=\"iris\">\n",
       "    <td class=\"iris-word-cell iris-subheading-cell\">\tquantity</td>\n",
       "    <td class=\"iris-word-cell\" colspan=\"4\">&#x27;Air Concentration&#x27;</td>\n",
       "</tr>\n",
       "<tr class=\"iris\">\n",
       "    <td class=\"iris-word-cell iris-subheading-cell\">\treference</td>\n",
       "    <td class=\"iris-word-cell\" colspan=\"4\">&#x27;https://doi.org/10.1007/978-0-387-68854-1_62&#x27;</td>\n",
       "</tr>\n",
       "<tr class=\"iris\">\n",
       "    <td class=\"iris-word-cell iris-subheading-cell\">\trelease_height</td>\n",
       "    <td class=\"iris-word-cell\" colspan=\"4\">&#x27;Multiple Sources&#x27;</td>\n",
       "</tr>\n",
       "<tr class=\"iris\">\n",
       "    <td class=\"iris-word-cell iris-subheading-cell\">\trelease_location</td>\n",
       "    <td class=\"iris-word-cell\" colspan=\"4\">&#x27;Multiple Sources&#x27;</td>\n",
       "</tr>\n",
       "<tr class=\"iris\">\n",
       "    <td class=\"iris-word-cell iris-subheading-cell\">\trun_duration</td>\n",
       "    <td class=\"iris-word-cell\" colspan=\"4\">&#x27;4day 11hr 30min&#x27;</td>\n",
       "</tr>\n",
       "<tr class=\"iris\">\n",
       "    <td class=\"iris-word-cell iris-subheading-cell\">\trun_time</td>\n",
       "    <td class=\"iris-word-cell\" colspan=\"4\">&#x27;25/07/2024 07:56:58.761 UTC+01:00&#x27;</td>\n",
       "</tr>\n",
       "<tr class=\"iris\">\n",
       "    <td class=\"iris-word-cell iris-subheading-cell\">\tsource</td>\n",
       "    <td class=\"iris-word-cell\" colspan=\"4\">&#x27;Met Office NAME model&#x27;</td>\n",
       "</tr>\n",
       "<tr class=\"iris\">\n",
       "    <td class=\"iris-word-cell iris-subheading-cell\">\tsource_or_sourcegroup</td>\n",
       "    <td class=\"iris-word-cell\" colspan=\"4\">&#x27;All sources&#x27;</td>\n",
       "</tr>\n",
       "<tr class=\"iris\">\n",
       "    <td class=\"iris-word-cell iris-subheading-cell\">\tsource_strength</td>\n",
       "    <td class=\"iris-word-cell\" colspan=\"4\">&#x27;Multiple Sources&#x27;</td>\n",
       "</tr>\n",
       "<tr class=\"iris\">\n",
       "    <td class=\"iris-word-cell iris-subheading-cell\">\tspecies</td>\n",
       "    <td class=\"iris-word-cell\" colspan=\"4\">&#x27;SULPHUR-DIOXIDE&#x27;</td>\n",
       "</tr>\n",
       "<tr class=\"iris\">\n",
       "    <td class=\"iris-word-cell iris-subheading-cell\">\tspecies_category</td>\n",
       "    <td class=\"iris-word-cell\" colspan=\"4\">&#x27;CHEMISTRY-SPECIES&#x27;</td>\n",
       "</tr>\n",
       "<tr class=\"iris\">\n",
       "    <td class=\"iris-word-cell iris-subheading-cell\">\tstart_of_release</td>\n",
       "    <td class=\"iris-word-cell\" colspan=\"4\">&#x27;29/05/2024 00:00 UTC&#x27;</td>\n",
       "</tr>\n",
       "<tr class=\"iris\">\n",
       "    <td class=\"iris-word-cell iris-subheading-cell\">\ttime_av_int_info</td>\n",
       "    <td class=\"iris-word-cell\" colspan=\"4\">&#x27;30min average&#x27;</td>\n",
       "</tr>\n",
       "<tr class=\"iris\">\n",
       "    <td class=\"iris-word-cell iris-subheading-cell\">\ttitle</td>\n",
       "    <td class=\"iris-word-cell\" colspan=\"4\">&#x27;Reykjanes_May24&#x27;</td>\n",
       "</tr>\n",
       "<tr class=\"iris\">\n",
       "    <td class=\"iris-word-cell iris-subheading-cell\">\tvertical_av_int_info</td>\n",
       "    <td class=\"iris-word-cell\" colspan=\"4\">&#x27;Finite Z-average&#x27;</td>\n",
       "</tr>\n",
       "</table>\n",
       "        </p>\n",
       "</div>\n",
       "    \n",
       "    "
      ],
      "text/plain": [
       "[<iris 'Cube' of SULPHUR_DIOXIDE_AIR_CONCENTRATION / (g / m^3) (time: 216; altitude: 40; latitude: 300; longitude: 400)>]"
      ]
     },
     "execution_count": 4,
     "metadata": {},
     "output_type": "execute_result"
    }
   ],
   "source": [
    "cubes"
   ]
  },
  {
   "cell_type": "code",
   "execution_count": 5,
   "id": "705a1d11-b8fb-46e3-bf0d-e21d702d82be",
   "metadata": {},
   "outputs": [],
   "source": [
    "cube = cubes[0]"
   ]
  },
  {
   "cell_type": "code",
   "execution_count": 6,
   "id": "96ddee57-eb8c-4711-b272-7335770f2a4c",
   "metadata": {},
   "outputs": [
    {
     "data": {
      "text/html": [
       "\n",
       "<style>\n",
       "  a.iris {\n",
       "      text-decoration: none !important;\n",
       "  }\n",
       "  table.iris {\n",
       "      white-space: pre;\n",
       "      border: 1px solid;\n",
       "      border-color: #9c9c9c;\n",
       "      font-family: monaco, monospace;\n",
       "  }\n",
       "  th.iris {\n",
       "      background: #303f3f;\n",
       "      color: #e0e0e0;\n",
       "      border-left: 1px solid;\n",
       "      border-color: #9c9c9c;\n",
       "      font-size: 1.05em;\n",
       "      min-width: 50px;\n",
       "      max-width: 125px;\n",
       "  }\n",
       "  tr.iris :first-child {\n",
       "      border-right: 1px solid #9c9c9c !important;\n",
       "  }\n",
       "  td.iris-title {\n",
       "      background: #d5dcdf;\n",
       "      border-top: 1px solid #9c9c9c;\n",
       "      font-weight: bold;\n",
       "  }\n",
       "  .iris-word-cell {\n",
       "      text-align: left !important;\n",
       "      white-space: pre;\n",
       "  }\n",
       "  .iris-subheading-cell {\n",
       "      padding-left: 2em !important;\n",
       "  }\n",
       "  .iris-inclusion-cell {\n",
       "      padding-right: 1em !important;\n",
       "  }\n",
       "  .iris-panel-body {\n",
       "      padding-top: 0px;\n",
       "  }\n",
       "  .iris-panel-title {\n",
       "      padding-left: 3em;\n",
       "  }\n",
       "  .iris-panel-title {\n",
       "      margin-top: 7px;\n",
       "  }\n",
       "</style>\n",
       "<table class=\"iris\" id=\"139791702809088\">\n",
       "    <tr class=\"iris\">\n",
       "<th class=\"iris iris-word-cell\">Sulphur Dioxide Air Concentration (g / m^3)</th>\n",
       "<th class=\"iris iris-word-cell\">time</th>\n",
       "<th class=\"iris iris-word-cell\">altitude</th>\n",
       "<th class=\"iris iris-word-cell\">latitude</th>\n",
       "<th class=\"iris iris-word-cell\">longitude</th>\n",
       "</tr>\n",
       "    <tr class=\"iris\">\n",
       "<td class=\"iris-word-cell iris-subheading-cell\">Shape</td>\n",
       "<td class=\"iris iris-inclusion-cell\">216</td>\n",
       "<td class=\"iris iris-inclusion-cell\">40</td>\n",
       "<td class=\"iris iris-inclusion-cell\">300</td>\n",
       "<td class=\"iris iris-inclusion-cell\">400</td>\n",
       "</tr>\n",
       "    <tr class=\"iris\">\n",
       "    <td class=\"iris-title iris-word-cell\">Dimension coordinates</td>\n",
       "    <td class=\"iris-title\"></td>\n",
       "    <td class=\"iris-title\"></td>\n",
       "    <td class=\"iris-title\"></td>\n",
       "    <td class=\"iris-title\"></td>\n",
       "</tr>\n",
       "<tr class=\"iris\">\n",
       "    <td class=\"iris-word-cell iris-subheading-cell\">\ttime</td>\n",
       "    <td class=\"iris-inclusion-cell\">x</td>\n",
       "    <td class=\"iris-inclusion-cell\">-</td>\n",
       "    <td class=\"iris-inclusion-cell\">-</td>\n",
       "    <td class=\"iris-inclusion-cell\">-</td>\n",
       "</tr>\n",
       "<tr class=\"iris\">\n",
       "    <td class=\"iris-word-cell iris-subheading-cell\">\taltitude</td>\n",
       "    <td class=\"iris-inclusion-cell\">-</td>\n",
       "    <td class=\"iris-inclusion-cell\">x</td>\n",
       "    <td class=\"iris-inclusion-cell\">-</td>\n",
       "    <td class=\"iris-inclusion-cell\">-</td>\n",
       "</tr>\n",
       "<tr class=\"iris\">\n",
       "    <td class=\"iris-word-cell iris-subheading-cell\">\tlatitude</td>\n",
       "    <td class=\"iris-inclusion-cell\">-</td>\n",
       "    <td class=\"iris-inclusion-cell\">-</td>\n",
       "    <td class=\"iris-inclusion-cell\">x</td>\n",
       "    <td class=\"iris-inclusion-cell\">-</td>\n",
       "</tr>\n",
       "<tr class=\"iris\">\n",
       "    <td class=\"iris-word-cell iris-subheading-cell\">\tlongitude</td>\n",
       "    <td class=\"iris-inclusion-cell\">-</td>\n",
       "    <td class=\"iris-inclusion-cell\">-</td>\n",
       "    <td class=\"iris-inclusion-cell\">-</td>\n",
       "    <td class=\"iris-inclusion-cell\">x</td>\n",
       "</tr>\n",
       "<tr class=\"iris\">\n",
       "    <td class=\"iris-title iris-word-cell\">Scalar coordinates</td>\n",
       "    <td class=\"iris-title\"></td>\n",
       "    <td class=\"iris-title\"></td>\n",
       "    <td class=\"iris-title\"></td>\n",
       "    <td class=\"iris-title\"></td>\n",
       "</tr>\n",
       "<tr class=\"iris\">\n",
       "    <td class=\"iris-word-cell iris-subheading-cell\">\tforecast_reference_time</td>\n",
       "    <td class=\"iris-word-cell\" colspan=\"4\">2024-05-29 00:00:00</td>\n",
       "</tr>\n",
       "<tr class=\"iris\">\n",
       "    <td class=\"iris-title iris-word-cell\">Cell methods</td>\n",
       "    <td class=\"iris-title\"></td>\n",
       "    <td class=\"iris-title\"></td>\n",
       "    <td class=\"iris-title\"></td>\n",
       "    <td class=\"iris-title\"></td>\n",
       "</tr>\n",
       "<tr class=\"iris\">\n",
       "    <td class=\"iris-word-cell iris-subheading-cell\">\t0</td>\n",
       "    <td class=\"iris-word-cell\" colspan=\"4\">time: mean</td>\n",
       "</tr>\n",
       "<tr class=\"iris\">\n",
       "    <td class=\"iris-word-cell iris-subheading-cell\">\t1</td>\n",
       "    <td class=\"iris-word-cell\" colspan=\"4\">altitude: mean</td>\n",
       "</tr>\n",
       "<tr class=\"iris\">\n",
       "    <td class=\"iris-title iris-word-cell\">Attributes</td>\n",
       "    <td class=\"iris-title\"></td>\n",
       "    <td class=\"iris-title\"></td>\n",
       "    <td class=\"iris-title\"></td>\n",
       "    <td class=\"iris-title\"></td>\n",
       "</tr>\n",
       "<tr class=\"iris\">\n",
       "    <td class=\"iris-word-cell iris-subheading-cell\">\tConventions</td>\n",
       "    <td class=\"iris-word-cell\" colspan=\"4\">&#x27;CF-1.7&#x27;</td>\n",
       "</tr>\n",
       "<tr class=\"iris\">\n",
       "    <td class=\"iris-word-cell iris-subheading-cell\">\tcomment</td>\n",
       "    <td class=\"iris-word-cell\" colspan=\"4\">&#x27;none&#x27;</td>\n",
       "</tr>\n",
       "<tr class=\"iris\">\n",
       "    <td class=\"iris-word-cell iris-subheading-cell\">\tend_of_release</td>\n",
       "    <td class=\"iris-word-cell\" colspan=\"4\">&#x27;30/05/2024 13:00 UTC&#x27;</td>\n",
       "</tr>\n",
       "<tr class=\"iris\">\n",
       "    <td class=\"iris-word-cell iris-subheading-cell\">\tfield_name</td>\n",
       "    <td class=\"iris-word-cell\" colspan=\"4\">&#x27;SO2_conc_masl&#x27;</td>\n",
       "</tr>\n",
       "<tr class=\"iris\">\n",
       "    <td class=\"iris-word-cell iris-subheading-cell\">\thistory</td>\n",
       "    <td class=\"iris-word-cell\" colspan=\"4\">&#x27;NAME 25/07/2024 07:56:58.761 UTC+01:00&#x27;</td>\n",
       "</tr>\n",
       "<tr class=\"iris\">\n",
       "    <td class=\"iris-word-cell iris-subheading-cell\">\thorizontal_av_int_info</td>\n",
       "    <td class=\"iris-word-cell\" colspan=\"4\">&#x27;No horizontal averaging&#x27;</td>\n",
       "</tr>\n",
       "<tr class=\"iris\">\n",
       "    <td class=\"iris-word-cell iris-subheading-cell\">\tinstitution</td>\n",
       "    <td class=\"iris-word-cell\" colspan=\"4\">&#x27;NA&#x27;</td>\n",
       "</tr>\n",
       "<tr class=\"iris\">\n",
       "    <td class=\"iris-word-cell iris-subheading-cell\">\tmet_data</td>\n",
       "    <td class=\"iris-word-cell\" colspan=\"4\">&#x27;NWP Flow.UKV_PT1_flow; NWP Flow.UKV_PT2_flow; NWP Flow.UKV_PT3_flow; NWP ...&#x27;</td>\n",
       "</tr>\n",
       "<tr class=\"iris\">\n",
       "    <td class=\"iris-word-cell iris-subheading-cell\">\tname_netcdf_out_vers</td>\n",
       "    <td class=\"iris-word-cell\" colspan=\"4\">&#x27;0.1&#x27;</td>\n",
       "</tr>\n",
       "<tr class=\"iris\">\n",
       "    <td class=\"iris-word-cell iris-subheading-cell\">\tname_version</td>\n",
       "    <td class=\"iris-word-cell\" colspan=\"4\">&#x27;NAME III (version 8.5)&#x27;</td>\n",
       "</tr>\n",
       "<tr class=\"iris\">\n",
       "    <td class=\"iris-word-cell iris-subheading-cell\">\tquantity</td>\n",
       "    <td class=\"iris-word-cell\" colspan=\"4\">&#x27;Air Concentration&#x27;</td>\n",
       "</tr>\n",
       "<tr class=\"iris\">\n",
       "    <td class=\"iris-word-cell iris-subheading-cell\">\treference</td>\n",
       "    <td class=\"iris-word-cell\" colspan=\"4\">&#x27;https://doi.org/10.1007/978-0-387-68854-1_62&#x27;</td>\n",
       "</tr>\n",
       "<tr class=\"iris\">\n",
       "    <td class=\"iris-word-cell iris-subheading-cell\">\trelease_height</td>\n",
       "    <td class=\"iris-word-cell\" colspan=\"4\">&#x27;Multiple Sources&#x27;</td>\n",
       "</tr>\n",
       "<tr class=\"iris\">\n",
       "    <td class=\"iris-word-cell iris-subheading-cell\">\trelease_location</td>\n",
       "    <td class=\"iris-word-cell\" colspan=\"4\">&#x27;Multiple Sources&#x27;</td>\n",
       "</tr>\n",
       "<tr class=\"iris\">\n",
       "    <td class=\"iris-word-cell iris-subheading-cell\">\trun_duration</td>\n",
       "    <td class=\"iris-word-cell\" colspan=\"4\">&#x27;4day 11hr 30min&#x27;</td>\n",
       "</tr>\n",
       "<tr class=\"iris\">\n",
       "    <td class=\"iris-word-cell iris-subheading-cell\">\trun_time</td>\n",
       "    <td class=\"iris-word-cell\" colspan=\"4\">&#x27;25/07/2024 07:56:58.761 UTC+01:00&#x27;</td>\n",
       "</tr>\n",
       "<tr class=\"iris\">\n",
       "    <td class=\"iris-word-cell iris-subheading-cell\">\tsource</td>\n",
       "    <td class=\"iris-word-cell\" colspan=\"4\">&#x27;Met Office NAME model&#x27;</td>\n",
       "</tr>\n",
       "<tr class=\"iris\">\n",
       "    <td class=\"iris-word-cell iris-subheading-cell\">\tsource_or_sourcegroup</td>\n",
       "    <td class=\"iris-word-cell\" colspan=\"4\">&#x27;All sources&#x27;</td>\n",
       "</tr>\n",
       "<tr class=\"iris\">\n",
       "    <td class=\"iris-word-cell iris-subheading-cell\">\tsource_strength</td>\n",
       "    <td class=\"iris-word-cell\" colspan=\"4\">&#x27;Multiple Sources&#x27;</td>\n",
       "</tr>\n",
       "<tr class=\"iris\">\n",
       "    <td class=\"iris-word-cell iris-subheading-cell\">\tspecies</td>\n",
       "    <td class=\"iris-word-cell\" colspan=\"4\">&#x27;SULPHUR-DIOXIDE&#x27;</td>\n",
       "</tr>\n",
       "<tr class=\"iris\">\n",
       "    <td class=\"iris-word-cell iris-subheading-cell\">\tspecies_category</td>\n",
       "    <td class=\"iris-word-cell\" colspan=\"4\">&#x27;CHEMISTRY-SPECIES&#x27;</td>\n",
       "</tr>\n",
       "<tr class=\"iris\">\n",
       "    <td class=\"iris-word-cell iris-subheading-cell\">\tstart_of_release</td>\n",
       "    <td class=\"iris-word-cell\" colspan=\"4\">&#x27;29/05/2024 00:00 UTC&#x27;</td>\n",
       "</tr>\n",
       "<tr class=\"iris\">\n",
       "    <td class=\"iris-word-cell iris-subheading-cell\">\ttime_av_int_info</td>\n",
       "    <td class=\"iris-word-cell\" colspan=\"4\">&#x27;30min average&#x27;</td>\n",
       "</tr>\n",
       "<tr class=\"iris\">\n",
       "    <td class=\"iris-word-cell iris-subheading-cell\">\ttitle</td>\n",
       "    <td class=\"iris-word-cell\" colspan=\"4\">&#x27;Reykjanes_May24&#x27;</td>\n",
       "</tr>\n",
       "<tr class=\"iris\">\n",
       "    <td class=\"iris-word-cell iris-subheading-cell\">\tvertical_av_int_info</td>\n",
       "    <td class=\"iris-word-cell\" colspan=\"4\">&#x27;Finite Z-average&#x27;</td>\n",
       "</tr>\n",
       "</table>\n",
       "        "
      ],
      "text/plain": [
       "<iris 'Cube' of SULPHUR_DIOXIDE_AIR_CONCENTRATION / (g / m^3) (time: 216; altitude: 40; latitude: 300; longitude: 400)>"
      ]
     },
     "execution_count": 6,
     "metadata": {},
     "output_type": "execute_result"
    }
   ],
   "source": [
    "cube"
   ]
  },
  {
   "cell_type": "code",
   "execution_count": 7,
   "id": "afb0ca99-a398-467f-ab42-90b37ba204bd",
   "metadata": {},
   "outputs": [],
   "source": [
    "t = cube.coord(\"time\")\n",
    "z = cube.coord(\"altitude\")\n",
    "y = cube.coord(\"latitude\")\n",
    "x = cube.coord(\"longitude\")"
   ]
  },
  {
   "cell_type": "code",
   "execution_count": 8,
   "id": "7a7ff9b6-f7d4-40e2-9a9b-29589d1a24e2",
   "metadata": {},
   "outputs": [],
   "source": [
    "tmin, tmax, tidx = 1, t.shape[0] - 1, 1"
   ]
  },
  {
   "cell_type": "code",
   "execution_count": 9,
   "id": "0f9eb829-c6b0-4972-90e6-273ca756e603",
   "metadata": {},
   "outputs": [
    {
     "name": "stdout",
     "output_type": "stream",
     "text": [
      "tmin=1, tmax=215, tidx=1\n"
     ]
    }
   ],
   "source": [
    "print(f\"{tmin=}, {tmax=}, {tidx=}\")"
   ]
  },
  {
   "cell_type": "code",
   "execution_count": 10,
   "id": "975da90d-c948-4f9e-9263-0cf2035516c5",
   "metadata": {},
   "outputs": [
    {
     "data": {
      "text/plain": [
       "<DimCoord: altitude / (m)  [ 125., 375., ..., 9625., 9875.]+bounds  shape(40,)>"
      ]
     },
     "execution_count": 10,
     "metadata": {},
     "output_type": "execute_result"
    }
   ],
   "source": [
    "z"
   ]
  },
  {
   "cell_type": "code",
   "execution_count": 11,
   "id": "68d955a3-71be-4870-8122-adfdaf551ba7",
   "metadata": {},
   "outputs": [],
   "source": [
    "y_cb = y.contiguous_bounds()\n",
    "x_cb = x.contiguous_bounds()\n",
    "\n",
    "z_cb = z.contiguous_bounds()\n",
    "z_fix = np.arange(*z_cb.shape) * np.mean(np.diff(y_cb)) * 5"
   ]
  },
  {
   "cell_type": "code",
   "execution_count": 12,
   "id": "40c50e32-d01a-4d60-9506-0998456c1a96",
   "metadata": {},
   "outputs": [
    {
     "name": "stdout",
     "output_type": "stream",
     "text": [
      "shape=(401, 301, 41)\n"
     ]
    }
   ],
   "source": [
    "xx, yy, zz = np.meshgrid(x_cb, y_cb, z_fix, indexing=\"ij\")\n",
    "shape = xx.shape\n",
    "print(f\"{shape=}\")"
   ]
  },
  {
   "cell_type": "code",
   "execution_count": 13,
   "id": "19665abc-f94b-412b-b940-889d5dba8efe",
   "metadata": {},
   "outputs": [
    {
     "data": {
      "text/plain": [
       "((401, 301, 41), (401, 301, 41), (401, 301, 41))"
      ]
     },
     "execution_count": 13,
     "metadata": {},
     "output_type": "execute_result"
    }
   ],
   "source": [
    "xx.shape, yy.shape, zz.shape"
   ]
  },
  {
   "cell_type": "code",
   "execution_count": 14,
   "id": "93cccab9-3963-4180-b89b-ed5423d81019",
   "metadata": {},
   "outputs": [
    {
     "name": "stdout",
     "output_type": "stream",
     "text": [
      "(0.0, 4.6409943e-07)\n"
     ]
    }
   ],
   "source": [
    "clim = (np.min(cube[tidx].data), np.max(cube[tidx].data))\n",
    "\n",
    "print(clim)"
   ]
  },
  {
   "cell_type": "code",
   "execution_count": 15,
   "id": "7ed40fca-21ee-4b39-aed3-fdc9a32c7e39",
   "metadata": {},
   "outputs": [],
   "source": [
    "xyz = to_cartesian(xx, yy, zlevel=zz, zscale=0.005)"
   ]
  },
  {
   "cell_type": "code",
   "execution_count": 16,
   "id": "063206fe-22cf-49b0-a1c8-409d63a6975e",
   "metadata": {},
   "outputs": [
    {
     "data": {
      "text/plain": [
       "(4948741, 3)"
      ]
     },
     "execution_count": 16,
     "metadata": {},
     "output_type": "execute_result"
    }
   ],
   "source": [
    "xyz.shape"
   ]
  },
  {
   "cell_type": "code",
   "execution_count": 17,
   "id": "ae5e60d9-6996-44a0-bd00-03cf36bb8243",
   "metadata": {},
   "outputs": [],
   "source": [
    "ggrid = pv.StructuredGrid(xyz[:, 0].reshape(shape), xyz[:, 1].reshape(shape), xyz[:, 2].reshape(shape))"
   ]
  },
  {
   "cell_type": "code",
   "execution_count": 18,
   "id": "293e9e85-a5ec-4327-b532-4d21124da732",
   "metadata": {},
   "outputs": [
    {
     "data": {
      "text/html": [
       "\n",
       "<table style='width: 100%;'>\n",
       "<tr><th>StructuredGrid</th><th>Information</th></tr>\n",
       "<tr><td>N Cells</td><td>4800000</td></tr>\n",
       "<tr><td>N Points</td><td>4948741</td></tr>\n",
       "<tr><td>X Bounds</td><td>2.953e-01, 8.435e-01</td></tr>\n",
       "<tr><td>Y Bounds</td><td>-4.224e-01, 1.472e-01</td></tr>\n",
       "<tr><td>Z Bounds</td><td>6.421e-01, 1.034e+00</td></tr>\n",
       "<tr><td>Dimensions</td><td>401, 301, 41</td></tr>\n",
       "<tr><td>N Arrays</td><td>0</td></tr>\n",
       "</table>\n",
       "\n"
      ],
      "text/plain": [
       "StructuredGrid (0x7f23c7a27520)\n",
       "  N Cells:      4800000\n",
       "  N Points:     4948741\n",
       "  X Bounds:     2.953e-01, 8.435e-01\n",
       "  Y Bounds:     -4.224e-01, 1.472e-01\n",
       "  Z Bounds:     6.421e-01, 1.034e+00\n",
       "  Dimensions:   401, 301, 41\n",
       "  N Arrays:     0"
      ]
     },
     "execution_count": 18,
     "metadata": {},
     "output_type": "execute_result"
    }
   ],
   "source": [
    "ggrid"
   ]
  },
  {
   "cell_type": "code",
   "execution_count": 36,
   "id": "03a6cfed-d048-455e-9494-811f28018787",
   "metadata": {},
   "outputs": [
    {
     "name": "stderr",
     "output_type": "stream",
     "text": [
      "/var/tmp/ipykernel_87452/809920452.py:5: UserWarning: geovista found no coordinate reference system (CRS) attached to mesh.\n",
      "  p.add_mesh(ggrid.threshold(), scalars=\"data\", name=\"plume\", cmap=\"oxy\", clim=clim, show_scalar_bar=False)  # , opacity=\"opacity\", use_transparency=True)\n"
     ]
    },
    {
     "data": {
      "application/vnd.jupyter.widget-view+json": {
       "model_id": "9e3e1aa5550243158a9175cd101d7999",
       "version_major": 2,
       "version_minor": 0
      },
      "text/plain": [
       "Widget(value='<iframe id=\"pyvista-jupyter_trame__template_P_0x7f23940504a0_3\" src=\"http://vld173.cmpd1.metoffi…"
      ]
     },
     "metadata": {},
     "output_type": "display_data"
    }
   ],
   "source": [
    "p = gv.GeoPlotter()\n",
    "\n",
    "ggrid[\"data\"] = np.ma.masked_less_equal(cube[tidx].data, 0).filled(np.nan).flatten()\n",
    "# ggrid[\"opacity\"] = 1 - (ggrid[\"data\"] / clim[1])\n",
    "p.add_mesh(ggrid.threshold(), scalars=\"data\", name=\"plume\", cmap=\"oxy\", clim=clim, show_scalar_bar=False)  # , opacity=\"opacity\", use_transparency=True)\n",
    "p.add_base_layer(texture=gv.natural_earth_1())\n",
    "p.show_axes()\n",
    "p.show()"
   ]
  },
  {
   "cell_type": "code",
   "execution_count": 37,
   "id": "55886566-e137-4ae4-92ec-14d8c78c246e",
   "metadata": {},
   "outputs": [],
   "source": [
    "pv.global_theme.allow_empty_mesh = True"
   ]
  },
  {
   "cell_type": "code",
   "execution_count": 40,
   "id": "9ba6b994-b533-4cd7-b693-f73d4523483c",
   "metadata": {
    "scrolled": true
   },
   "outputs": [
    {
     "data": {
      "application/vnd.jupyter.widget-view+json": {
       "model_id": "2f849752185b4fa4a17b4594cd5674f0",
       "version_major": 2,
       "version_minor": 0
      },
      "text/plain": [
       "interactive(children=(FloatRangeSlider(value=(0.0, 4.6409942910941027e-07), description='Threshold:', max=4.64…"
      ]
     },
     "metadata": {},
     "output_type": "display_data"
    },
    {
     "data": {
      "text/plain": [
       "<function __main__.callback_threshold(idx)>"
      ]
     },
     "execution_count": 40,
     "metadata": {},
     "output_type": "execute_result"
    }
   ],
   "source": [
    "cmin, cmax = clim\n",
    "csteps = 1000000\n",
    "cstep = (cmax - cmin) / csteps \n",
    "widgets.interact(callback_threshold, idx=widgets.FloatRangeSlider(value=clim, min=cmin, max=cmax, step=cstep, continuous_update=True, description=\"Threshold:\", readout_format=\".2e\"))"
   ]
  },
  {
   "cell_type": "code",
   "execution_count": 41,
   "id": "04c5485e-093b-48cc-9cef-353a04b22647",
   "metadata": {},
   "outputs": [
    {
     "data": {
      "application/vnd.jupyter.widget-view+json": {
       "model_id": "575c3dcfa44841be9670a731ce889490",
       "version_major": 2,
       "version_minor": 0
      },
      "text/plain": [
       "interactive(children=(IntSlider(value=1, continuous_update=False, description='Time:', max=215, min=1), Output…"
      ]
     },
     "metadata": {},
     "output_type": "display_data"
    },
    {
     "data": {
      "text/plain": [
       "<function __main__.callback_time(tidx)>"
      ]
     },
     "execution_count": 41,
     "metadata": {},
     "output_type": "execute_result"
    }
   ],
   "source": [
    "widgets.interact(callback_time, tidx=widgets.IntSlider(value=tmin, min=tmin, max=tmax, step=1, continuous_update=False, description=\"Time:\"))"
   ]
  },
  {
   "cell_type": "code",
   "execution_count": 38,
   "id": "ceeec97b-5c10-4ea0-af94-415673a8b6a2",
   "metadata": {},
   "outputs": [],
   "source": [
    "global_threshold = 0\n",
    "\n",
    "def callback_threshold(idx):\n",
    "    global global_threshold\n",
    "    global_threshold = idx\n",
    "    \n",
    "    mesh = ggrid.threshold(idx)\n",
    "    mesh.set_active_scalars(\"data\", preference=\"cell\")\n",
    "    p.add_mesh(mesh, name=\"plume\", cmap=\"oxy\", clim=clim, render=True, scalars=\"data\", preference=\"cell\", show_scalar_bar=False, show_edges=False)"
   ]
  },
  {
   "cell_type": "code",
   "execution_count": 39,
   "id": "019ad01e-0774-4269-baa3-1b45d6cbda01",
   "metadata": {},
   "outputs": [],
   "source": [
    "def callback_time(tidx):\n",
    "    ggrid[\"data\"] = np.ma.masked_less_equal(cube[tidx].data, 0).filled(np.nan).flatten()\n",
    "    mesh = ggrid.threshold(global_threshold)\n",
    "    mesh.set_active_scalars(\"data\", preference=\"cell\")\n",
    "    p.add_mesh(mesh, name=\"plume\", cmap=\"oxy\", clim=clim, render=True, scalars=\"data\", preference=\"cell\", show_scalar_bar=False, show_edges=False)"
   ]
  },
  {
   "cell_type": "code",
   "execution_count": null,
   "id": "a41c5004-3901-4f78-9ee1-a59a9cb439d1",
   "metadata": {},
   "outputs": [],
   "source": [
    "result = ggrid.threshold().extract_geometry()"
   ]
  },
  {
   "cell_type": "code",
   "execution_count": null,
   "id": "2d38cce2-91dd-48f5-a75e-09ea828dcb43",
   "metadata": {},
   "outputs": [],
   "source": [
    "result"
   ]
  },
  {
   "cell_type": "code",
   "execution_count": null,
   "id": "722a93b9-cead-4f82-b6e0-99d0c5256bfb",
   "metadata": {},
   "outputs": [],
   "source": [
    "result.plot(cmap=\"matter\")"
   ]
  },
  {
   "cell_type": "code",
   "execution_count": null,
   "id": "b3d4ce87-6135-46b8-8163-ab908335b168",
   "metadata": {},
   "outputs": [],
   "source": [
    "result.smooth(n_iter=350).plot(cmap=\"matter\")"
   ]
  },
  {
   "cell_type": "code",
   "execution_count": null,
   "id": "8ff1731f-6867-4f7b-b7a8-4eef58681534",
   "metadata": {},
   "outputs": [],
   "source": [
    "result.smooth_taubin(n_iter=50, pass_band=0.05).plot(cmap=\"matter\")"
   ]
  },
  {
   "cell_type": "code",
   "execution_count": null,
   "id": "d213bad3-90ad-4178-9bab-bee5bfe87559",
   "metadata": {},
   "outputs": [],
   "source": []
  }
 ],
 "metadata": {
  "kernelspec": {
   "display_name": "Python 3 (ipykernel)",
   "language": "python",
   "name": "python3"
  },
  "language_info": {
   "codemirror_mode": {
    "name": "ipython",
    "version": 3
   },
   "file_extension": ".py",
   "mimetype": "text/x-python",
   "name": "python",
   "nbconvert_exporter": "python",
   "pygments_lexer": "ipython3",
   "version": "3.12.5"
  }
 },
 "nbformat": 4,
 "nbformat_minor": 5
}
