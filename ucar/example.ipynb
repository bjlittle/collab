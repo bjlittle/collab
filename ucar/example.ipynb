{
 "cells": [
  {
   "cell_type": "markdown",
   "id": "7f1583c7",
   "metadata": {},
   "source": [
    "# UGRID Tools: MO/UCAR 06 April 2022"
   ]
  },
  {
   "cell_type": "markdown",
   "id": "d0852b63",
   "metadata": {},
   "source": [
    "<h1 align=\"center\"> <a href=\"https://github.com/bjlittle/geovista\"> <img src=\"resources/geovistalogo.png\" alt=\"GeoVista\" width=\"200\"> </a></h1>\n",
    "\n",
    "<h3 align=\"center\"> Cartographic rendering and mesh analytics powered by <a href=\"https://docs.pyvista.org/index.html\">PyVista</a></h3>"
   ]
  },
  {
   "cell_type": "markdown",
   "id": "8b1822dd",
   "metadata": {},
   "source": [
    "In this notebook we'll introduce `geovista`. A new, exciting open-source Scientific Python package being developed by the AVD Team, which leverages the benefits of the Python package `pyvista` to offer geospatial rendering and unstructured mesh analytics.\n",
    "\n",
    "`geovista` delivers a paradigm shift in performance, thanks to building upon [VTK](https://vtk.org/), which is implemented in **C++** and supports **GPU hardware accelerated rendering** through [OpenGL](https://www.opengl.org//)."
   ]
  },
  {
   "cell_type": "markdown",
   "id": "81ae0e1d",
   "metadata": {},
   "source": [
    "## What's Coming Up..."
   ]
  },
  {
   "cell_type": "markdown",
   "id": "2db21e7d",
   "metadata": {},
   "source": [
    "We'll give a whirlwind tour of the following `geovista` topics the underpin our planar projection support:\n",
    "\n",
    "1. **Exploring our Data with GeoVista**\n",
    "1. **Using a KDTree with an LFRic Cubed-Sphere Mesh**"
   ]
  },
  {
   "cell_type": "markdown",
   "id": "0356ed98",
   "metadata": {},
   "source": [
    "## Notebook Configuration"
   ]
  },
  {
   "cell_type": "markdown",
   "id": "47cfdf04",
   "metadata": {},
   "source": [
    "First, let's configure the notebook with the packages that we need..."
   ]
  },
  {
   "cell_type": "code",
   "execution_count": null,
   "id": "2089f738",
   "metadata": {},
   "outputs": [],
   "source": [
    "import math\n",
    "from pathlib import Path\n",
    "from typing import Optional\n",
    "\n",
    "from cartopy.crs import PlateCarree\n",
    "import geovista as gv\n",
    "import geovista.theme\n",
    "import iris\n",
    "from iris.experimental.ugrid import PARSE_UGRID_ON_LOAD\n",
    "import netCDF4\n",
    "import pyvista as pv\n",
    "\n",
    "\n",
    "print(f\"{iris.__version__=}\")\n",
    "print(f\"{gv.__version__=}\")"
   ]
  },
  {
   "cell_type": "markdown",
   "id": "cf6a540a",
   "metadata": {},
   "source": [
    "#### Jupyter Notebook 3D Modules\n",
    "\n",
    "Module       | Jupyterlab 3 | Rendering Location | Backend | Requires Framebuffer | Demo\n",
    ":-----------:| :----------: | :----------------: | :-----: | :------------------: | :--:\n",
    "`ipygany`    | Yes          | Client             | threejs | No                   | \n",
    "`ipyvtklink` | Yes          | Server             | vtk     | Yes                  | ✔️\n",
    "`itkwidgets` | No           | Client             | vtk.js  | Yes                  |\n",
    "`panel`      | Yes          | Client             | vtk.js  | Yes                  |\n",
    "`pythreejs`  | Yes          | Client             | threejs | No                   | ✔️\n",
    "\n",
    "\n",
    "See [PyVista Jupyter Notebook Plotting](https://docs.pyvista.org/user-guide/jupyter/index.html) for further details."
   ]
  },
  {
   "cell_type": "code",
   "execution_count": null,
   "id": "9529af27",
   "metadata": {},
   "outputs": [],
   "source": [
    "pv.set_jupyter_backend(\"pythreejs\")"
   ]
  },
  {
   "cell_type": "code",
   "execution_count": null,
   "id": "197b487c",
   "metadata": {},
   "outputs": [],
   "source": [
    "BASE_DIR = Path(\"./data\")"
   ]
  },
  {
   "cell_type": "markdown",
   "id": "9b39d65e",
   "metadata": {},
   "source": [
    "## Utility Functions"
   ]
  },
  {
   "cell_type": "markdown",
   "id": "6e607092",
   "metadata": {},
   "source": [
    "For convenience sake, create some utility functions to load assorted data that is unstructured..."
   ]
  },
  {
   "cell_type": "code",
   "execution_count": null,
   "id": "b5e55af7",
   "metadata": {},
   "outputs": [],
   "source": [
    "def load_ugrid(\n",
    "    fname: str,\n",
    "    data: Optional[bool] = False,\n",
    "    constraint: Optional[str] = None,\n",
    "    verbose: Optional[bool] = False\n",
    ") -> pv.PolyData:\n",
    "    fname = BASE_DIR / fname\n",
    "    with PARSE_UGRID_ON_LOAD.context():\n",
    "        cube = iris.load_cube(fname, constraint=constraint)\n",
    "        \n",
    "    if cube.ndim > 1:\n",
    "        cube = cube[(0,) * (cube.ndim - 1)]\n",
    "    \n",
    "    if verbose:\n",
    "        print(cube)\n",
    "    \n",
    "    data = cube.data if data else None\n",
    "        \n",
    "    face_node = cube.mesh.face_node_connectivity\n",
    "    indices = face_node.indices_by_location()\n",
    "    lons, lats = cube.mesh.node_coords\n",
    "\n",
    "    mesh = gv.Transform.from_unstructured(\n",
    "        lons.points,\n",
    "        lats.points,\n",
    "        indices,\n",
    "        data=data,\n",
    "        start_index=face_node.start_index,\n",
    "        name=cube.name(),\n",
    "    )\n",
    "\n",
    "    if data is None:\n",
    "        mesh.active_scalars_name = None\n",
    "    \n",
    "    return mesh"
   ]
  },
  {
   "cell_type": "code",
   "execution_count": null,
   "id": "aded33d6",
   "metadata": {},
   "outputs": [],
   "source": [
    "def load_lam(\n",
    "    data: Optional[bool] = True,\n",
    "    verbose: Optional[bool] = False\n",
    ") -> pv.PolyData:\n",
    "    return load_ugrid(\n",
    "        \"lam.nc\",\n",
    "        data=data,\n",
    "        constraint=\"air_potential_temperature\",\n",
    "        verbose=verbose,\n",
    "    )"
   ]
  },
  {
   "cell_type": "code",
   "execution_count": null,
   "id": "2a79ab49",
   "metadata": {},
   "outputs": [],
   "source": [
    "def load_sst(\n",
    "    data: Optional[bool] = True,\n",
    "    verbose: Optional[bool] = False\n",
    ") -> pv.PolyData:\n",
    "    return load_ugrid(\n",
    "        \"sst.nc\",\n",
    "        data=data,\n",
    "        verbose=verbose,\n",
    "    )"
   ]
  },
  {
   "cell_type": "code",
   "execution_count": null,
   "id": "58b18e58",
   "metadata": {},
   "outputs": [],
   "source": [
    "def load_icosahedral(\n",
    "    data: Optional[bool] = True, \n",
    "    verbose: Optional[bool] = False\n",
    ") -> pv.PolyData:\n",
    "    # see https://github.com/SciTools/cartopy/issues/2016\n",
    "    ds = netCDF4.Dataset(BASE_DIR / \"icosahedral.nc\")\n",
    "    lons = ds.variables[\"bounds_lon_i\"][:]\n",
    "    lats = ds.variables[\"bounds_lat_i\"][:]\n",
    "    data = ds.variables[\"phis\"][:] if data else None\n",
    "    \n",
    "    if verbose:\n",
    "        print(ds)\n",
    "    \n",
    "    mesh = gv.Transform.from_unstructured(\n",
    "        lons,\n",
    "        lats,\n",
    "        lons.shape,\n",
    "        data=data,\n",
    "    )\n",
    "    \n",
    "    if data is None:\n",
    "        mesh.active_scalars_name = None\n",
    "        \n",
    "    return mesh"
   ]
  },
  {
   "cell_type": "code",
   "execution_count": null,
   "id": "25b57693",
   "metadata": {},
   "outputs": [],
   "source": [
    "def load_moisture(\n",
    "    data: Optional[bool] = True,\n",
    "    verbose: Optional[bool] = False\n",
    ") -> pv.PolyData:\n",
    "    return load_ugrid(\n",
    "        \"soil.nc\",\n",
    "        data=data,\n",
    "        constraint=\"soil_moisture\",\n",
    "        verbose=verbose,\n",
    "    )"
   ]
  },
  {
   "cell_type": "code",
   "execution_count": null,
   "id": "ecaae8d1",
   "metadata": {},
   "outputs": [],
   "source": [
    "def info(mesh: pv.PolyData) -> None:\n",
    "    print(f\"The mesh is a C{int(math.sqrt(mesh.n_cells / 6))}, with 6 panels, {int(mesh.n_cells / 6):,d} cells per panel, and {mesh.n_cells:,d} cells.\")"
   ]
  },
  {
   "cell_type": "markdown",
   "id": "0bd1dcb2",
   "metadata": {},
   "source": [
    "## Exploring our Data with GeoVista"
   ]
  },
  {
   "cell_type": "markdown",
   "id": "8f044d28",
   "metadata": {},
   "source": [
    "### LFRic: Local Area Model (LAM) Air Potential Temperature"
   ]
  },
  {
   "cell_type": "code",
   "execution_count": null,
   "id": "8a084dc6",
   "metadata": {},
   "outputs": [],
   "source": [
    "lam = load_lam(verbose=True)"
   ]
  },
  {
   "cell_type": "code",
   "execution_count": null,
   "id": "e25a37c6",
   "metadata": {},
   "outputs": [],
   "source": [
    "lam"
   ]
  },
  {
   "cell_type": "markdown",
   "id": "01a64a78",
   "metadata": {},
   "source": [
    "Our `mesh` is **Coordinate Reference System** (CRS) aware, thanks to the awesomeness of `pyproj` 🥳..."
   ]
  },
  {
   "cell_type": "code",
   "execution_count": null,
   "id": "887b269a",
   "metadata": {},
   "outputs": [],
   "source": [
    "lam[\"gvCRS\"]"
   ]
  },
  {
   "cell_type": "code",
   "execution_count": null,
   "id": "dfd88656",
   "metadata": {},
   "outputs": [],
   "source": [
    "crs = gv.from_wkt(lam)\n",
    "crs"
   ]
  },
  {
   "cell_type": "code",
   "execution_count": null,
   "id": "a32434c8",
   "metadata": {},
   "outputs": [],
   "source": [
    "crs.datum"
   ]
  },
  {
   "cell_type": "code",
   "execution_count": null,
   "id": "b10c5d57",
   "metadata": {},
   "outputs": [],
   "source": [
    "crs.ellipsoid"
   ]
  },
  {
   "cell_type": "code",
   "execution_count": null,
   "id": "daeb3df9",
   "metadata": {},
   "outputs": [],
   "source": [
    "crs.prime_meridian"
   ]
  },
  {
   "cell_type": "code",
   "execution_count": null,
   "id": "fee4db2b",
   "metadata": {},
   "outputs": [],
   "source": [
    "crs.is_geographic"
   ]
  },
  {
   "cell_type": "markdown",
   "id": "a2f15a07",
   "metadata": {},
   "source": [
    "Now let's render the **LAM** mesh using `geovista`..."
   ]
  },
  {
   "cell_type": "code",
   "execution_count": null,
   "id": "2ada9bf2",
   "metadata": {},
   "outputs": [],
   "source": [
    "plotter = gv.GeoPlotter()\n",
    "\n",
    "plotter.add_mesh(lam, cmap=\"balance\", show_edges=False)\n",
    "plotter.add_coastlines(resolution=\"110m\", color=\"white\")\n",
    "plotter.add_base_layer(texture=gv.natural_earth_hypsometric())\n",
    "\n",
    "plotter.show()"
   ]
  },
  {
   "cell_type": "markdown",
   "id": "8343f6b8",
   "metadata": {},
   "source": [
    "Now let's explore some **planar projections** of our **LAM** data..."
   ]
  },
  {
   "cell_type": "code",
   "execution_count": null,
   "id": "9d221f63",
   "metadata": {},
   "outputs": [],
   "source": [
    "plotter = gv.GeoPlotter(crs=\"+proj=moll\")\n",
    "\n",
    "plotter.add_base_layer(texture=gv.natural_earth_hypsometric())\n",
    "plotter.add_mesh(lam, cmap=\"balance\", show_edges=False)\n",
    "plotter.view_xy()\n",
    "\n",
    "plotter.show()"
   ]
  },
  {
   "cell_type": "markdown",
   "id": "64328362",
   "metadata": {},
   "source": [
    "### LFRic: Cubed-Sphere C48 Sea Surface Temperature"
   ]
  },
  {
   "cell_type": "markdown",
   "id": "45d7f49e",
   "metadata": {},
   "source": [
    "Let's explore some cubed-sphere **sea surface temperature** data with a **land mask**..."
   ]
  },
  {
   "cell_type": "code",
   "execution_count": null,
   "id": "13f4d7e5",
   "metadata": {},
   "outputs": [],
   "source": [
    "sst = load_sst(verbose=True)"
   ]
  },
  {
   "cell_type": "code",
   "execution_count": null,
   "id": "139748fb",
   "metadata": {},
   "outputs": [],
   "source": [
    "sst"
   ]
  },
  {
   "cell_type": "code",
   "execution_count": null,
   "id": "7e1e42cd",
   "metadata": {},
   "outputs": [],
   "source": [
    "info(sst)"
   ]
  },
  {
   "cell_type": "code",
   "execution_count": null,
   "id": "edb4180c",
   "metadata": {},
   "outputs": [],
   "source": [
    "sst_holy = sst.threshold()"
   ]
  },
  {
   "cell_type": "code",
   "execution_count": null,
   "id": "57a4b5ef",
   "metadata": {},
   "outputs": [],
   "source": [
    "plotter = gv.GeoPlotter()\n",
    "\n",
    "plotter.add_base_layer(texture=gv.natural_earth_hypsometric(), zlevel=-5)\n",
    "plotter.add_coastlines(resolution=\"10m\", color=\"white\")\n",
    "plotter.add_mesh(sst_holy, cmap=\"balance\", show_edges=True)\n",
    "\n",
    "plotter.show()"
   ]
  },
  {
   "cell_type": "markdown",
   "id": "144dde65",
   "metadata": {},
   "source": [
    "### Unstructured Hexagonal Mesh"
   ]
  },
  {
   "cell_type": "markdown",
   "id": "8e6e3c89",
   "metadata": {},
   "source": [
    "We have support to render generic unstructured meshes, such as this **hexagonal** mesh..."
   ]
  },
  {
   "cell_type": "code",
   "execution_count": null,
   "id": "5bb4d396",
   "metadata": {},
   "outputs": [],
   "source": [
    "mesh = load_icosahedral(verbose=True)"
   ]
  },
  {
   "cell_type": "code",
   "execution_count": null,
   "id": "a07dd6fb",
   "metadata": {},
   "outputs": [],
   "source": [
    "plotter = gv.GeoPlotter()\n",
    "\n",
    "plotter.add_mesh(mesh, show_edges=True)\n",
    "\n",
    "plotter.show()"
   ]
  },
  {
   "cell_type": "markdown",
   "id": "2e0c3d19",
   "metadata": {},
   "source": [
    "## LFRic: Cubed-Sphere C192 Soil Moisture\n",
    "\n",
    "Create a `pyvista.PolyData` mesh using `geovista`..."
   ]
  },
  {
   "cell_type": "code",
   "execution_count": null,
   "id": "3efb345e",
   "metadata": {},
   "outputs": [],
   "source": [
    "moisture = load_moisture(verbose=True)"
   ]
  },
  {
   "cell_type": "code",
   "execution_count": null,
   "id": "15ff86c2",
   "metadata": {},
   "outputs": [],
   "source": [
    "!ncdump -h ./data/soil.nc"
   ]
  },
  {
   "cell_type": "code",
   "execution_count": null,
   "id": "bc82ab84",
   "metadata": {},
   "outputs": [],
   "source": [
    "moisture"
   ]
  },
  {
   "cell_type": "code",
   "execution_count": null,
   "id": "e393b5ce",
   "metadata": {},
   "outputs": [],
   "source": [
    "info(moisture)"
   ]
  },
  {
   "cell_type": "markdown",
   "id": "e275fc22",
   "metadata": {},
   "source": [
    "Now using `geovista`, let's plot the cubed-sphere mesh..."
   ]
  },
  {
   "cell_type": "code",
   "execution_count": null,
   "id": "87eff3db",
   "metadata": {},
   "outputs": [],
   "source": [
    "cmap = \"bwy\""
   ]
  },
  {
   "cell_type": "code",
   "execution_count": null,
   "id": "24085e67",
   "metadata": {},
   "outputs": [],
   "source": [
    "plotter = gv.GeoPlotter()\n",
    "\n",
    "plotter.add_mesh(moisture, cmap=cmap, show_edges=True)\n",
    "plotter.add_coastlines(resolution=\"10m\", color=\"white\")\n",
    "\n",
    "plotter.show()"
   ]
  },
  {
   "cell_type": "code",
   "execution_count": null,
   "id": "d3497992",
   "metadata": {},
   "outputs": [],
   "source": [
    "def to_centers(mesh: pv.PolyData) -> pv.PolyData:\n",
    "    tmp = mesh.copy()\n",
    "    tmp.clear_cell_data()\n",
    "    tmp.clear_point_data()\n",
    "    tmp.clear_field_data()\n",
    "    return tmp.cell_centers()"
   ]
  },
  {
   "cell_type": "code",
   "execution_count": null,
   "id": "aca03328",
   "metadata": {},
   "outputs": [],
   "source": [
    "moisture_centers = to_centers(moisture)"
   ]
  },
  {
   "cell_type": "code",
   "execution_count": null,
   "id": "dced9af4",
   "metadata": {},
   "outputs": [],
   "source": [
    "%timeit to_centers(moisture)"
   ]
  },
  {
   "cell_type": "code",
   "execution_count": null,
   "id": "6b8dcd35",
   "metadata": {},
   "outputs": [],
   "source": [
    "moisture_centers"
   ]
  },
  {
   "cell_type": "code",
   "execution_count": null,
   "id": "801d2da1",
   "metadata": {},
   "outputs": [],
   "source": [
    "from pykdtree.kdtree import KDTree\n",
    "\n",
    "from geovista.common import to_xyz\n",
    "\n",
    "\n",
    "def find_nearest(tree, points, poi, k):\n",
    "    # lat/lon to xyz\n",
    "    xyz = to_xyz(*poi)\n",
    "    print(f\"{poi=}\")\n",
    "    print(f\"{xyz=}\")\n",
    "    \n",
    "    # find the k nearest euclidean neighbours\n",
    "    dist, idxs = tree.query(xyz, k=k)\n",
    "    \n",
    "    print(f\"{dist=}\")\n",
    "    print(f\"{idxs=}\")\n",
    "    \n",
    "    if idxs.ndim > 1:\n",
    "        idxs = idxs[0]\n",
    "    \n",
    "    # retieve the associated xyz points of the k nearest neighbours\n",
    "    nearest = points[idxs]\n",
    "    \n",
    "    return xyz, nearest, idxs"
   ]
  },
  {
   "cell_type": "code",
   "execution_count": null,
   "id": "f59e4035",
   "metadata": {},
   "outputs": [],
   "source": [
    "# define some points-of-interest (poi) in (lon, lat) order\n",
    "north_pole = 0, 90\n",
    "london = -0.1276, 51.5072\n",
    "new_york = -74.006, 40.7128"
   ]
  },
  {
   "cell_type": "code",
   "execution_count": null,
   "id": "04721379",
   "metadata": {},
   "outputs": [],
   "source": [
    "points = moisture_centers.points\n",
    "tree = KDTree(points)\n",
    "\n",
    "poi = london\n",
    "\n",
    "xyz, nearest, idxs = find_nearest(tree, points, poi, k=10)"
   ]
  },
  {
   "cell_type": "code",
   "execution_count": null,
   "id": "33a147c5",
   "metadata": {},
   "outputs": [],
   "source": [
    "plotter = gv.GeoPlotter()\n",
    "\n",
    "plotter.add_mesh(moisture, cmap=cmap, show_edges=True)\n",
    "\n",
    "plotter.add_points(xyz, render_points_as_spheres=True, color=\"yellow\", point_size=.5)\n",
    "plotter.add_points(moisture_centers, color=\"black\", point_size=1)\n",
    "plotter.add_points(nearest, render_points_as_spheres=True, color=\"red\", point_size=.5)\n",
    "\n",
    "plotter.add_coastlines(resolution=\"10m\")\n",
    "\n",
    "plotter.show(jupyter_backend=\"pythreejs\")"
   ]
  },
  {
   "cell_type": "markdown",
   "id": "8387acb4",
   "metadata": {},
   "source": [
    "Same again, but this time using the `ipyvtklink` backend renderer..."
   ]
  },
  {
   "cell_type": "code",
   "execution_count": null,
   "id": "eb6a2c51",
   "metadata": {},
   "outputs": [],
   "source": [
    "plotter = gv.GeoPlotter()\n",
    "\n",
    "plotter.add_mesh(moisture, cmap=cmap, show_edges=True)\n",
    "\n",
    "plotter.add_points(xyz, render_points_as_spheres=True, color=\"yellow\", point_size=5)\n",
    "plotter.add_points(moisture_centers, color=\"black\", point_size=1)\n",
    "plotter.add_points(nearest, render_points_as_spheres=True, color=\"red\", point_size=5)\n",
    "\n",
    "plotter.add_coastlines(resolution=\"10m\")\n",
    "\n",
    "plotter.show(jupyter_backend=\"ipyvtklink\")"
   ]
  },
  {
   "cell_type": "code",
   "execution_count": null,
   "id": "ea9c54c1",
   "metadata": {},
   "outputs": [],
   "source": []
  }
 ],
 "metadata": {
  "kernelspec": {
   "display_name": "Python 3 (ipykernel)",
   "language": "python",
   "name": "python3"
  },
  "language_info": {
   "codemirror_mode": {
    "name": "ipython",
    "version": 3
   },
   "file_extension": ".py",
   "mimetype": "text/x-python",
   "name": "python",
   "nbconvert_exporter": "python",
   "pygments_lexer": "ipython3",
   "version": "3.10.4"
  }
 },
 "nbformat": 4,
 "nbformat_minor": 5
}
